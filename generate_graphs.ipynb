{
 "cells": [
  {
   "cell_type": "code",
   "execution_count": 14,
   "metadata": {},
   "outputs": [],
   "source": [
    "# %%\n",
    "import argparse\n",
    "\n",
    "import pandas as pd\n",
    "import numpy as np\n",
    "from tqdm import tqdm\n",
    "from tqdm.contrib.concurrent import thread_map\n",
    "\n",
    "from util.mongodb import Mongo\n",
    "import os\n",
    "\n",
    "import networkx as nx\n",
    "from pyvis.network import Network"
   ]
  },
  {
   "cell_type": "code",
   "execution_count": 2,
   "metadata": {},
   "outputs": [],
   "source": [
    "\n",
    "\n",
    "def get_triples(meta, reviews):\n",
    "    # has reviewed relations\n",
    "    # reviewerID has_reviewed productID\n",
    "    triples = set()\n",
    "\n",
    "    triples.add((meta.get('asin'), 'price', meta.get('price', '')))\n",
    "\n",
    "    has_wrote_summary = set()\n",
    "    summary_is_for = set()\n",
    "    for review in reviews:\n",
    "        if 'summary' in review:\n",
    "            has_wrote_summary.add(\n",
    "                (review[\"reviewerID\"], \"has_wrote_summary\", review[\"summary\"])\n",
    "            )\n",
    "            if meta['asin']:\n",
    "                summary_is_for.add((review[\"summary\"], \"summary_is_for\", meta[\"asin\"]))\n",
    "    triples.update(has_wrote_summary)\n",
    "\n",
    "    ranked = set()\n",
    "    for review in reviews:\n",
    "        ranked.add((review[\"reviewerID\"], f\"ranked_{int(review['overall'])}\", review[\"asin\"]))\n",
    "    triples.update(ranked)\n",
    "        \n",
    "    if \"category\" in meta:\n",
    "        is_an_instance_of = set()\n",
    "        for category in meta[\"category\"]:\n",
    "            is_an_instance_of.add((meta[\"asin\"], \"is_an_instance_of\", category))\n",
    "        triples.update(is_an_instance_of)\n",
    "        \n",
    "    if \"also_buy\" in meta:\n",
    "        also_buy = set()\n",
    "        for asin in meta[\"also_buy\"]:\n",
    "            also_buy.add((meta[\"asin\"], \"also_buy\", asin))\n",
    "        triples.update(also_buy)\n",
    "\n",
    "    if \"also_view\" in meta:\n",
    "        also_view = set()\n",
    "        for asin in meta[\"also_view\"]:\n",
    "            also_view.add((meta[\"asin\"], \"also_view\", asin))\n",
    "        triples.update(also_view)\n",
    "\n",
    "    # if 'image' in meta:\n",
    "    #     has_such_number_of_images = set()\n",
    "    #     has_such_number_of_images.add((meta['asin'], 'has_such_number_of_images', len(meta['image'])))\n",
    "    #     triples.update(has_such_number_of_images)\n",
    "\n",
    "    if \"brand\" in meta:\n",
    "        is_of_brand = set()\n",
    "        if meta['brand']:\n",
    "            is_of_brand.add((meta[\"asin\"], \"is_of_brand\", meta[\"brand\"]))\n",
    "        triples.update(is_of_brand)\n",
    "\n",
    "    if \"details\" in meta:\n",
    "\n",
    "        if \"Discontinued by manufacturer:\" in meta[\"details\"]:\n",
    "            is_discontinued = set()\n",
    "            is_discontinued.add(\n",
    "                (\n",
    "                    meta[\"asin\"],\n",
    "                    \"is_discontinued\",\n",
    "                    meta[\"details\"][\"Discontinued by manufacturer:\"],\n",
    "                )\n",
    "            )\n",
    "            triples.update(is_discontinued)\n",
    "    return triples"
   ]
  },
  {
   "cell_type": "code",
   "execution_count": 29,
   "metadata": {},
   "outputs": [
    {
     "data": {
      "application/vnd.jupyter.widget-view+json": {
       "model_id": "efa612244dae4104a318da092803423c",
       "version_major": 2,
       "version_minor": 0
      },
      "text/plain": [
       "  0%|          | 0/5000 [00:00<?, ?it/s]"
      ]
     },
     "metadata": {},
     "output_type": "display_data"
    }
   ],
   "source": [
    "\n",
    "mongo = Mongo(host=\"52.53.202.9\", port=27017, username=\"mongo\", password=\"avengers\", database=\"amazon_product_review\")\n",
    "\n",
    "triples = set()\n",
    "\n",
    "query = {\"$and\":[\n",
    "    {\"main_cat\": \"All Beauty\"},\n",
    "    {\"asin\": {\n",
    "        \"$in\": ['B00KXVY7M8', 'B00CQGUT3E', 'B0070WVEWE']\n",
    "        }\n",
    "        }]}\n",
    "# query = {\"$and\":[\n",
    "#     {\"main_cat\": \"All Beauty\"},\n",
    "#     {\"asin\": {\n",
    "#         \"$in\": ['B00KXVY7M8']\n",
    "#         }\n",
    "#         }]}\n",
    "# total = mongo.meta.count_documents(query)\n",
    "total = 5000\n",
    "metas = mongo.get_meta(query, limit=total)\n",
    "\n",
    "def create_triples(meta):\n",
    "    reviews = list(mongo.get_review_by_asin(meta[\"asin\"]))\n",
    "    triples.update(get_triples(meta, reviews))\n",
    "    \n",
    "_ = thread_map(create_triples, metas, max_workers=30, total=total)"
   ]
  },
  {
   "cell_type": "code",
   "execution_count": 38,
   "metadata": {},
   "outputs": [],
   "source": [
    "G = nx.Graph()\n",
    "edge_types = {\n",
    "    'also_view':\"#000000\", # black\n",
    "    'has_wrote_summary':\"#555555\", # grey\n",
    "    'is_an_instance_of':\"#0000ff\",# blue\n",
    "    'is_of_brand':\"#ff00ff\",# pink\n",
    "    'price':\"#00ffff\",# cyan\n",
    "    'ranked_1':\"#ff0000\",# red\n",
    "    'ranked_2':\"#ff0000\", # red\n",
    "    'ranked_3':\"#ff0000\", # red\n",
    "    'ranked_4':\"#00ff00\", # green\n",
    "    'ranked_5':\"#00ff00\" # green\n",
    "}\n",
    "for node in ['B00KXVY7M8', 'B00CQGUT3E', 'B0070WVEWE']:\n",
    "    G.add_node(node, color = \"#FFFF00\", size=40) # yellow\n",
    "for triple in triples:\n",
    "    if triple[1] == 'also_view':\n",
    "        G.add_node(triple[2], color = \"#FFFF00\", size=20) # yellow\n",
    "    if triple[1] == 'has_wrote_summary':\n",
    "        G.add_node(triple[0], color = \"#00FFFF\", size=40) # cyan\n",
    "    G.add_edge(triple[0], triple[2], group=triple[1], color=edge_types[triple[1]])"
   ]
  },
  {
   "cell_type": "code",
   "execution_count": 39,
   "metadata": {},
   "outputs": [
    {
     "data": {
      "text/plain": [
       "{'also_view': '#000000',\n",
       " 'has_wrote_summary': '#555555',\n",
       " 'is_an_instance_of': '#0000ff',\n",
       " 'is_of_brand': '#ff00ff',\n",
       " 'price': '#00ffff',\n",
       " 'ranked_1': '#ff0000',\n",
       " 'ranked_2': '#ff0000',\n",
       " 'ranked_3': '#ff0000',\n",
       " 'ranked_4': '#00ff00',\n",
       " 'ranked_5': '#00ff00'}"
      ]
     },
     "execution_count": 39,
     "metadata": {},
     "output_type": "execute_result"
    }
   ],
   "source": [
    "edge_types"
   ]
  },
  {
   "cell_type": "code",
   "execution_count": 41,
   "metadata": {},
   "outputs": [],
   "source": [
    "net = Network(\"100%\", \"70%\")\n",
    "\n",
    "net.from_nx(G)\n",
    "net.show_buttons()\n",
    "net.force_atlas_2based()\n",
    "net.show(\"graph.html\")"
   ]
  },
  {
   "cell_type": "code",
   "execution_count": 26,
   "metadata": {},
   "outputs": [
    {
     "data": {
      "text/plain": [
       "2612"
      ]
     },
     "execution_count": 26,
     "metadata": {},
     "output_type": "execute_result"
    }
   ],
   "source": [
    "len(triples)"
   ]
  },
  {
   "cell_type": "code",
   "execution_count": null,
   "metadata": {},
   "outputs": [],
   "source": []
  }
 ],
 "metadata": {
  "interpreter": {
   "hash": "1860956c51d04fc073d72f02f657a3145f6a6b6baefecf7758347f48e1abf727"
  },
  "kernelspec": {
   "display_name": "Python 3.9.7 ('aiden_base_39')",
   "language": "python",
   "name": "python3"
  },
  "language_info": {
   "codemirror_mode": {
    "name": "ipython",
    "version": 3
   },
   "file_extension": ".py",
   "mimetype": "text/x-python",
   "name": "python",
   "nbconvert_exporter": "python",
   "pygments_lexer": "ipython3",
   "version": "3.9.7"
  },
  "orig_nbformat": 4
 },
 "nbformat": 4,
 "nbformat_minor": 2
}
