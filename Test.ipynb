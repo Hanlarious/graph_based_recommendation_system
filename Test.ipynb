{
 "cells": [
  {
   "cell_type": "code",
   "execution_count": 10,
   "id": "5c78eab3",
   "metadata": {},
   "outputs": [
    {
     "name": "stderr",
     "output_type": "stream",
     "text": [
      "0it [00:00, ?it/s]"
     ]
    },
    {
     "name": "stdout",
     "output_type": "stream",
     "text": [
      "{'category': ['Clothing, Shoes & Jewelry', 'Shoe, Jewelry & Watch Accessories', 'Shoe Care & Accessories', 'Electric Shoe Polishers'], 'tech1': '', 'description': ['This electric shoe polisher has a high torque motor with large polishing buffers that will shine shoes in a jiffy. The one touch motor only operates as long as you hold the button and turns off when released.', \"This electric device eliminates the embarrassment of stepping out from home or office with unpolished shoes. It polishes and buffs men's and women's shoes in just seconds--and it doesn't require bending over. Because the push-button on/off control is on top of a chrome post 32-1/2 inches high, the polisher can be operated while standing. Two polishing muffs--black for black shoes, red for other colors--slip onto large cones that ensure quick work when powered by the high-torque, 60-watt motor. Either after applying polish to shoes or just for buffing, the muffs provide a high, professional-quality shine. The muffs can be replaced when they wear out. The polisher is heavy and stable. It assembles quickly with just two Phillips head screws, which are included, and carries a one-year warranty against defects. <I>--Fred Brack</I>\"], 'fit': '', 'title': 'First Class Electric Shoe Polisher', 'also_buy': [], 'image': [], 'tech2': '', 'brand': 'Jerdon', 'feature': [], 'rank': '2,532,810 in Beauty & Personal Care (', 'also_view': [], 'details': {'\\n    Product Dimensions: \\n    ': '18 x 8 x 33 inches', 'Shipping Weight:': '9.2 pounds', 'Domestic Shipping: ': 'Currently, item can be shipped only within the U.S. and to APO/FPO addresses. For APO/FPO shipments, please check with the manufacturer regarding warranty and support issues.', 'International Shipping: ': 'This item is not eligible for international shipping.', 'ASIN: ': 'B00005NWS1', 'UPC:': '027043071767', 'Item model number:': 'JD104KD1', 'Discontinued by manufacturer:': 'Yes'}, 'main_cat': 'All Beauty', 'similar_item': '', 'date': '', 'price': '', 'asin': 'B00005NWS1'}\n",
      "\n",
      "\n",
      "{'overall': 5.0, 'verified': True, 'reviewTime': '07 22, 2007', 'reviewerID': 'A13CAVPI1LH5EK', 'asin': 'B00005NWS1', 'reviewerName': 'msbiz', 'reviewText': 'I bought this shoe polisher for my son...a very finicky yuppie! He just LOVES it! There it stands in his bedroom ready to polish his shoes just before leaving the house. I have to admit, he always looks so handsome and well groomed and nicely polished shoes contribute to the total \"look\". He\\'s very successful as a pharmaceutical rep...maybe the shiny shoes help?', 'summary': 'Wonderful! EXCELLENT!', 'unixReviewTime': 1185062400}\n",
      "{'overall': 5.0, 'verified': True, 'reviewTime': '02 3, 2007', 'reviewerID': 'A16AO3LK9TOMEQ', 'asin': 'B00005NWS1', 'reviewerName': 'Mr. Robert C. Stott', 'reviewText': 'Item was exactly as described and was sent out right away.  Would buy from seller again.', 'summary': 'Excellent', 'unixReviewTime': 1170460800}\n",
      "{'overall': 4.0, 'verified': True, 'reviewTime': '05 6, 2007', 'reviewerID': 'A1AV79NN7Z0LN3', 'asin': 'B00005NWS1', 'reviewerName': 'Francis W. Devlin', 'reviewText': 'Works well, could be a little easier to attach polishing pads, it took an inordinate amount of time to do.', 'summary': 'Shoe polisher review', 'unixReviewTime': 1178409600}\n",
      "{'overall': 4.0, 'verified': False, 'reviewTime': '04 6, 2002', 'reviewerID': 'A1FFCXWCRKNSIJ', 'asin': 'B00005NWS1', 'reviewerName': 'Barbara', 'reviewText': \"My father had one of these, and the whole family used it at times for polishing the larger areas of our leather shoes.  Obviously it can't be used for fabric and a little elbow grease is still needed for the tough spots.  But, all-in-all it does a nice job.  This price is great.  I've looked at a similar one at the mall for twice the price! My husband is getting this for Father's Day.\", 'summary': \"A Great Father's Day Gift\", 'unixReviewTime': 1018051200}\n",
      "{'overall': 4.0, 'verified': True, 'reviewTime': '07 13, 2006', 'reviewerID': 'A1KJN6FSZANL68', 'asin': 'B00005NWS1', 'reviewerName': 'S. Sutton', 'reviewText': 'This is a nice polisher for on/off use. For the person looking for everyday use, this most likely would fall apart after a couple of months. It saves me time and it fits a need at the right price.', 'summary': 'Good item for basic use', 'unixReviewTime': 1152748800}\n",
      "{'overall': 4.0, 'verified': True, 'reviewTime': '04 27, 2008', 'reviewerID': 'A1SRZQ3WFCIKRO', 'asin': 'B00005NWS1', 'reviewerName': 'StuMat', 'reviewText': 'Item was delivered promptly following my order and works fine. It takes the \"bending down aches\" out of shoe polishing and gives a very quick polish, especially useful when you are in a hurry and rushing out of the house. I would like it to have a continuously \"on\" switch, instead of having to hold the button down for \"on\". Also, some way of anchoring it to the floor would be useful. Overall rating. Very Good.', 'summary': 'Electric Shoe Polisher', 'unixReviewTime': 1209254400}\n",
      "{'overall': 3.0, 'verified': False, 'reviewTime': '07 26, 2007', 'reviewerID': 'A2H4AVAJLYX3LN', 'asin': 'B00005NWS1', 'reviewerName': 'Larry Egerton', 'reviewText': 'THe polisher looks good and does the job, albeit, with an under-powered motor. Maybe 1/4 horse-power more would be the key.', 'summary': 'Spiffy work shoes', 'unixReviewTime': 1185408000}\n",
      "{'overall': 2.0, 'verified': False, 'reviewTime': '01 17, 2013', 'reviewerID': 'A3DUMOPAQC6XU9', 'asin': 'B00005NWS1', 'reviewerName': 'TigerLilyCo', 'reviewText': \"This shoe polisher lasted less than three months and it was only used by my husband for a quick buff to shine up his shoes before leaving for the office.  The brush broke off and we couldn't find any replacement parts anywhere.  So we just bought another thinking that we'd at least have spare parts if anything broke again.  Well, the same side brush broke as did the one on the other side.  The problem is that the brush should be on a metal axle rod and not plastic.  This whole thing is made of cheap plastic with the exception of the tall handle!  Definitely NOT worth the price!\", 'summary': 'Not for everyday use!!!', 'unixReviewTime': 1358380800}\n",
      "{'overall': 4.0, 'verified': False, 'reviewTime': '01 6, 2008', 'reviewerID': 'A3F8R7D1LJGVXR', 'asin': 'B00005NWS1', 'reviewerName': 'James P. Kelaher', 'reviewText': 'Another attorney in my office has the exact same electric shoe polisher which he bought at Sharper Image, and he paid a heck of a lot more for it. It works well and keeps my shoes looking very nice.', 'summary': 'Good product at less expensive price', 'unixReviewTime': 1199577600}\n",
      "{'overall': 4.0, 'verified': False, 'reviewTime': '08 26, 2007', 'reviewerID': 'A3ITE4ANPM26CX', 'asin': 'B00005NWS1', 'reviewerName': 'Philip Frame', 'reviewText': \"This is the best shoe polisher for its price. I know some people don't like how the buffer stops under high torque, but you just have to learn how to be more delicate. But the thing does a good job. This is the second one of these I bought. One is at home, the other at work, which I use for touch-ups, plus it is a nice thing to have around for visitors. I really like it.\", 'summary': 'First Class Electric Shoe Polisher', 'unixReviewTime': 1188086400}\n",
      "{'overall': 5.0, 'verified': True, 'reviewTime': '12 2, 2007', 'reviewerID': 'A3S0LQTB3FKWSE', 'asin': 'B00005NWS1', 'reviewerName': 'Sdc', 'reviewText': 'item is just as described; works very well and does a good job of shining leather shoes', 'summary': 'electric shoe buffer', 'unixReviewTime': 1196553600}\n",
      "{'overall': 1.0, 'verified': False, 'reviewTime': '05 25, 2007', 'reviewerID': 'A5TZLKH4FGAAP', 'asin': 'B00005NWS1', 'reviewerName': 'Diane E. Sutley', 'reviewText': \"This is a piece of trash.  The buffer ends are made of cheap plastic and the pads are so thin that it resembles a toy.  When you put you shoe on it, the shoe bounces off of it.  There is no way to make it buff smoothly over the shoe.  You can't use any pressure or the spinning shuts down.  After 10 minutes of use it shuts down because it gets to hot.\\n\\nDon't waste your time or money on this thing.\", 'summary': 'Should be worst class shoe polisher', 'unixReviewTime': 1180051200}\n",
      "{'overall': 4.0, 'verified': True, 'reviewTime': '04 14, 2007', 'reviewerID': 'A7BVUJYI2LA39', 'asin': 'B00005NWS1', 'reviewerName': 'Karthik Kura', 'reviewText': \"I bought this product for my Dad.  He likes to always look sharp at a moment's call.  He certainly likes this product, but it is really only useful as a last minute dust-remover and light-buffer.  It doesn't buff the shoes quite as much as we'd hoped, so you will probably still have to go through your normal buffing process once in a while, but it does a pretty clean daily job.  All-in-all, an acceptable product for sharp-dressed people; unnecessary for anyone else, really.\", 'summary': 'Good product... for last minute touch-up', 'unixReviewTime': 1176508800}\n",
      "{'overall': 3.0, 'verified': False, 'reviewTime': '05 20, 2007', 'reviewerID': 'A9OVSWUS5T0J4', 'asin': 'B00005NWS1', 'reviewerName': 'Anthony Lomastro', 'reviewText': 'The product is made very well, easy to assemble, easy to operate.\\n\\nThe only flaw I found which is a major flaw is the motor is not very powerful. If you place your shoe to close to buffer the motor stops. In other words you must place your shoes very lightly to the buffer in order for the polisher to be effective. All in all still worth the money.', 'summary': 'Worth the money but !', 'unixReviewTime': 1179619200}\n",
      "{'overall': 1.0, 'verified': True, 'reviewTime': '07 29, 2007', 'reviewerID': 'AJ74CZI5AKF06', 'asin': 'B00005NWS1', 'reviewerName': 'Patrick G', 'reviewText': 'I am returning my unit.  The brushes are too soft and the motor is too weak to actually do anything but take the dust off your shoes.', 'summary': \"Don't Bother\", 'unixReviewTime': 1185667200}\n",
      "{'overall': 4.0, 'verified': False, 'reviewTime': '05 9, 2007', 'reviewerID': 'ALB5VA1PQF153', 'asin': 'B00005NWS1', 'reviewerName': 'K&amp;T Fitz', 'reviewText': \"It requires a bit of assembly, which takes about 5 minutes and you've got yourself a first class, value-priced shoe polisher.  The fuzz pads are a little economically built (not as good as the ones in the barbershop when I was a kid), but they work.  For the price, it's hard to pass up.\", 'summary': 'Great little unit.', 'unixReviewTime': 1178668800}\n",
      "{'overall': 5.0, 'verified': False, 'reviewTime': '11 9, 2006', 'reviewerID': 'AUAYTLNHGHP4T', 'asin': 'B00005NWS1', 'reviewerName': 'Merle Pederson', 'reviewText': \"This is the ONE shoe polisher ... I'm on my second now (the first is still working fine after more than 15 years but left behind in a separation).  Not the cheapest but worth the extra money and will service your shoes for many, many years with a change in pads every 5-6 years!\\n\\nThe only other similar product I absolutely love is the Corby pants press .... also a must if you want to save money on dry cleaning and want sharp slacks day in and day out!!\", 'summary': 'First Class is right', 'unixReviewTime': 1163030400}\n",
      "1\n",
      "17\n",
      "17\n"
     ]
    },
    {
     "name": "stderr",
     "output_type": "stream",
     "text": [
      "\n"
     ]
    }
   ],
   "source": [
    "from util.mongodb import Mongo\n",
    "from tqdm import tqdm\n",
    "\n",
    "mongo = Mongo(host=\"52.53.202.9\", username=\"mongo\", password=\"avengers\")\n",
    "\n",
    "meta_counter = 0\n",
    "review_counter = 0\n",
    "reviewer_set = set()\n",
    "\n",
    "metas = mongo.get_meta({\"main_cat\":\"All Beauty\"})\n",
    "\n",
    "for meta in tqdm(metas):\n",
    "    print(meta)\n",
    "    print(\"\\n\")\n",
    "    meta_counter += 1\n",
    "    reviewer = []\n",
    "    for review in mongo.get_review_by_asin(meta['asin']):\n",
    "        review_counter += 1\n",
    "        reviewer_set.add(review['reviewerID'])\n",
    "        reviewer.append(review)\n",
    "        print(review)\n",
    "    break\n",
    "print(meta_counter)\n",
    "print(review_counter)\n",
    "print(len(reviewer_set))"
   ]
  },
  {
   "cell_type": "code",
   "execution_count": null,
   "id": "26496917",
   "metadata": {},
   "outputs": [],
   "source": []
  }
 ],
 "metadata": {
  "kernelspec": {
   "display_name": "Python 3 (ipykernel)",
   "language": "python",
   "name": "python3"
  },
  "language_info": {
   "codemirror_mode": {
    "name": "ipython",
    "version": 3
   },
   "file_extension": ".py",
   "mimetype": "text/x-python",
   "name": "python",
   "nbconvert_exporter": "python",
   "pygments_lexer": "ipython3",
   "version": "3.9.10"
  }
 },
 "nbformat": 4,
 "nbformat_minor": 5
}
